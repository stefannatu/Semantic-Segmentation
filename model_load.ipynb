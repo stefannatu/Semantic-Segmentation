{
 "cells": [
  {
   "cell_type": "markdown",
   "metadata": {},
   "source": [
    "<h3> Code to load the VGG model and other helper functions."
   ]
  },
  {
   "cell_type": "code",
   "execution_count": 7,
   "metadata": {},
   "outputs": [],
   "source": [
    "import shutil\n",
    "import zipfile\n",
    "import os\n",
    "from urllib.request import urlretrieve"
   ]
  },
  {
   "cell_type": "code",
   "execution_count": 9,
   "metadata": {},
   "outputs": [],
   "source": [
    "def maybe_download_pretrained_vgg(data_dir):\n",
    "    ''' Download and extrac the pretrained VGG model if it doesnt exist\n",
    "    :data_dir: directory to download the file to'''\n",
    "    \n",
    "    vgg_filename = vgg.zip\n",
    "    vgg_path = os.path.join(data_dir, 'vgg')\n",
    "    \n",
    "    vgg_files = [\n",
    "        os.path.join(vgg_path, 'variables\\variables.data-00000-of-00001'),\n",
    "        os.path.join(vgg_path, 'variables\\variables.index'),\n",
    "        os.path.join(vgg_path, 'saved_model.pb')\n",
    "        ]\n",
    "    \n",
    "    missing_vgg_files = [file for file in vgg_files if not os.path.exists(file)]\n",
    "    \n",
    "    if missing_vgg_files:\n",
    "        # clean path if exists\n",
    "        if os.path_exists(vgg_path):\n",
    "            shutil.rmtree(vgg_path)\n",
    "        os.mkdir(vgg_path)\n",
    "        # re download and extract the vgg path\n",
    "        print('Downloading pre-trained VGG model')\n",
    "        urlretrieve('https://s3-us-west-1.amazonaws.com/udacity-selfdrivingcar/vgg.zip',\n",
    "                filename = os.path.join(vgg_path, vgg_filename))\n",
    "    \n",
    "        print(\"Extracting pretrained model to vgg_files\")\n",
    "        zip_ref = zipfile.ZipFile(os.path.join(vgg_path, vgg_filename), 'r')\n",
    "        zip_ref.extractall(data_dir)\n",
    "        zip_ref.close()\n",
    "        \n",
    "        print('Deleting zip file to save space')\n",
    "        os.remove(os.path.join(vgg_path, vgg_filename))\n",
    "        "
   ]
  },
  {
   "cell_type": "code",
   "execution_count": null,
   "metadata": {},
   "outputs": [],
   "source": []
  }
 ],
 "metadata": {
  "kernelspec": {
   "display_name": "Python 3",
   "language": "python",
   "name": "python3"
  },
  "language_info": {
   "codemirror_mode": {
    "name": "ipython",
    "version": 3
   },
   "file_extension": ".py",
   "mimetype": "text/x-python",
   "name": "python",
   "nbconvert_exporter": "python",
   "pygments_lexer": "ipython3",
   "version": "3.6.5"
  }
 },
 "nbformat": 4,
 "nbformat_minor": 2
}
